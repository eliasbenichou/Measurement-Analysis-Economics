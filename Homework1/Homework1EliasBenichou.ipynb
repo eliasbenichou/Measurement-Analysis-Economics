{
 "cells": [
  {
   "cell_type": "markdown",
   "id": "cb09e0c7-88ef-4231-8430-b32c999bede6",
   "metadata": {
    "tags": []
   },
   "source": [
    "# Assignment 1\n",
    "\n",
    "## Elias Benichou 6307290\n",
    "\n",
    "<hr>"
   ]
  },
  {
   "cell_type": "markdown",
   "id": "72771313-63b4-4e1c-84d0-18e910be55e6",
   "metadata": {
    "tags": []
   },
   "source": [
    "### 1.) <hr>\n"
   ]
  },
  {
   "cell_type": "code",
   "execution_count": 18,
   "id": "5b1d5b8e-6d2b-4595-a076-f260849d5b67",
   "metadata": {},
   "outputs": [
    {
     "data": {
      "text/plain": [
       "{'HHHHH',\n",
       " 'HHHHT',\n",
       " 'HHHTH',\n",
       " 'HHHTT',\n",
       " 'HHTHH',\n",
       " 'HHTHT',\n",
       " 'HHTTH',\n",
       " 'HHTTT',\n",
       " 'HTHHH',\n",
       " 'HTHHT',\n",
       " 'HTHTH',\n",
       " 'HTHTT',\n",
       " 'HTTHH',\n",
       " 'HTTHT',\n",
       " 'HTTTH',\n",
       " 'HTTTT',\n",
       " 'THHHH',\n",
       " 'THHHT',\n",
       " 'THHTH',\n",
       " 'THHTT',\n",
       " 'THTHH',\n",
       " 'THTHT',\n",
       " 'THTTH',\n",
       " 'THTTT',\n",
       " 'TTHHH',\n",
       " 'TTHHT',\n",
       " 'TTHTH',\n",
       " 'TTHTT',\n",
       " 'TTTHH',\n",
       " 'TTTHT',\n",
       " 'TTTTH',\n",
       " 'TTTTT'}"
      ]
     },
     "execution_count": 18,
     "metadata": {},
     "output_type": "execute_result"
    }
   ],
   "source": [
    "import itertools as it\n",
    "coin = ['H','T']\n",
    "{''.join(i) for i in it.product(coin,repeat=5)}"
   ]
  },
  {
   "cell_type": "code",
   "execution_count": 20,
   "id": "0ff17f18-5160-4861-ad28-f98ced325172",
   "metadata": {},
   "outputs": [
    {
     "data": {
      "text/plain": [
       "32"
      ]
     },
     "execution_count": 21,
     "metadata": {},
     "output_type": "execute_result"
    }
   ],
   "source": [
    "total = { i for i in it.product(coin,repeat=5)}"
   ]
  },
  {
   "cell_type": "markdown",
   "id": "e8a9d5c5-7e25-4c7b-b730-b29c826a07b6",
   "metadata": {
    "tags": []
   },
   "source": [
    "## 2.) <hr>"
   ]
  },
  {
   "cell_type": "code",
   "execution_count": 24,
   "id": "5736c163-527e-4467-99c7-fd5347b99e35",
   "metadata": {},
   "outputs": [],
   "source": [
    "import itertools as it"
   ]
  },
  {
   "cell_type": "code",
   "execution_count": 26,
   "id": "9218acfd-d46d-4d91-ac00-546944e6eef3",
   "metadata": {},
   "outputs": [],
   "source": [
    "die = list(range(1,7,1))\n",
    "S = [i for i in it.product(die, repeat=3)]"
   ]
  },
  {
   "cell_type": "code",
   "execution_count": 27,
   "id": "cdbf924c-0e3e-4320-a41f-523225c5140e",
   "metadata": {},
   "outputs": [
    {
     "data": {
      "text/plain": [
       "[(1, 1, 3), (1, 2, 2), (1, 3, 1), (2, 1, 2), (2, 2, 1), (3, 1, 1)]"
      ]
     },
     "execution_count": 27,
     "metadata": {},
     "output_type": "execute_result"
    }
   ],
   "source": [
    "A = [i for i in S if (i[0] + i[1]+i[2]) ==5]\n",
    "A"
   ]
  },
  {
   "cell_type": "markdown",
   "id": "d69b0c65-8ee7-4783-bc06-869afef93160",
   "metadata": {
    "tags": []
   },
   "source": [
    "## 3.) <hr>"
   ]
  },
  {
   "cell_type": "code",
   "execution_count": 39,
   "id": "6e35333d-ceb4-4af6-b6ae-3157a76988a5",
   "metadata": {},
   "outputs": [],
   "source": [
    "A = set(range(0,5,1))\n",
    "B = set(range(2,7,1))\n",
    "C = set(range(0,11,1))"
   ]
  },
  {
   "cell_type": "code",
   "execution_count": 40,
   "id": "43637cb0-938a-4005-9e25-f745d4c15c1e",
   "metadata": {},
   "outputs": [
    {
     "data": {
      "text/plain": [
       "{2, 3, 4}"
      ]
     },
     "execution_count": 40,
     "metadata": {},
     "output_type": "execute_result"
    }
   ],
   "source": [
    "A.intersection(B.intersection(C))"
   ]
  },
  {
   "cell_type": "markdown",
   "id": "6bc5c800-4204-4ff9-9ce5-9b0b086a9acb",
   "metadata": {
    "tags": []
   },
   "source": [
    "## 4.) <hr>"
   ]
  },
  {
   "cell_type": "code",
   "execution_count": 28,
   "id": "1d5555a4-f1ba-4b5f-9934-82b9eb304a03",
   "metadata": {},
   "outputs": [],
   "source": [
    "import itertools as it"
   ]
  },
  {
   "cell_type": "code",
   "execution_count": 32,
   "id": "9e804d89-c631-40c1-9a7e-b0313681662f",
   "metadata": {},
   "outputs": [],
   "source": [
    "AX = set(range(0,4,1))\n",
    "AY = set(range(0,4,1))\n",
    "BX = set(range(2,5,1))\n",
    "BY = set(range(1,5,1))"
   ]
  },
  {
   "cell_type": "code",
   "execution_count": 35,
   "id": "3f0bfa79-5153-440d-94e4-6fb4b5f08f10",
   "metadata": {},
   "outputs": [],
   "source": [
    "A = {i for i in it.product(AX,AY)}\n",
    "B = {i for i in it.product(BX,BY)}"
   ]
  },
  {
   "cell_type": "code",
   "execution_count": 36,
   "id": "c9568d10-eabb-47b2-9a09-c3f7fb863ab4",
   "metadata": {
    "tags": []
   },
   "outputs": [
    {
     "name": "stdout",
     "output_type": "stream",
     "text": [
      "{(0, 1), (1, 2), (2, 1), (0, 0), (3, 1), (1, 1), (0, 3), (2, 0), (3, 0), (2, 3), (0, 2), (3, 3), (2, 2), (1, 0), (3, 2), (1, 3)}\n"
     ]
    }
   ],
   "source": [
    "print(A)"
   ]
  },
  {
   "cell_type": "code",
   "execution_count": 37,
   "id": "7bfa9155-928c-4c1e-a645-562fd38ab81e",
   "metadata": {},
   "outputs": [
    {
     "name": "stdout",
     "output_type": "stream",
     "text": [
      "{(4, 4), (2, 4), (2, 1), (3, 4), (4, 3), (3, 1), (4, 2), (2, 3), (3, 3), (2, 2), (3, 2), (4, 1)}\n"
     ]
    }
   ],
   "source": [
    "print(B)"
   ]
  },
  {
   "cell_type": "code",
   "execution_count": 38,
   "id": "25fe14a1-610a-4033-83c6-7e712d40afc6",
   "metadata": {},
   "outputs": [
    {
     "data": {
      "text/plain": [
       "{(0, 0),\n",
       " (0, 1),\n",
       " (0, 2),\n",
       " (0, 3),\n",
       " (1, 0),\n",
       " (1, 1),\n",
       " (1, 2),\n",
       " (1, 3),\n",
       " (2, 0),\n",
       " (2, 1),\n",
       " (2, 2),\n",
       " (2, 3),\n",
       " (2, 4),\n",
       " (3, 0),\n",
       " (3, 1),\n",
       " (3, 2),\n",
       " (3, 3),\n",
       " (3, 4),\n",
       " (4, 1),\n",
       " (4, 2),\n",
       " (4, 3),\n",
       " (4, 4)}"
      ]
     },
     "execution_count": 38,
     "metadata": {},
     "output_type": "execute_result"
    }
   ],
   "source": [
    "A.union(B)"
   ]
  },
  {
   "cell_type": "code",
   "execution_count": 39,
   "id": "785e19f5-bacb-46fa-b2dd-c6466cbc1733",
   "metadata": {},
   "outputs": [
    {
     "data": {
      "text/plain": [
       "{(2, 1), (2, 2), (2, 3), (3, 1), (3, 2), (3, 3)}"
      ]
     },
     "execution_count": 39,
     "metadata": {},
     "output_type": "execute_result"
    }
   ],
   "source": [
    "A.intersection(B)"
   ]
  },
  {
   "cell_type": "markdown",
   "id": "6559f4a6-2d64-42dc-9918-b2023d626d7e",
   "metadata": {
    "tags": []
   },
   "source": [
    "## 5.) <hr>"
   ]
  },
  {
   "cell_type": "code",
   "execution_count": 40,
   "id": "87ae7450-cac8-41dd-aeb6-9d11b939f061",
   "metadata": {},
   "outputs": [],
   "source": [
    "numbers = ['0','1','2','3','4','5','6','7','8','9']\n",
    "letters = ['A','B','C','D','E','F','G','H','I','J','K','L','M','N','O','P','Q','R','S','T','U','V','W','X','Y','Z']"
   ]
  },
  {
   "cell_type": "code",
   "execution_count": 41,
   "id": "a74ba6c7-3a98-4f93-b72f-87fec0488653",
   "metadata": {},
   "outputs": [],
   "source": [
    "A = [i for i in it.product(numbers,repeat=4)]\n",
    "B = [i for i in it.product(letters,repeat=2)]"
   ]
  },
  {
   "cell_type": "code",
   "execution_count": 42,
   "id": "27d5e5ca-ebce-43be-adf5-90c6355303b2",
   "metadata": {},
   "outputs": [
    {
     "data": {
      "text/plain": [
       "6760000"
      ]
     },
     "execution_count": 42,
     "metadata": {},
     "output_type": "execute_result"
    }
   ],
   "source": [
    "S = [i for i in it.product(A,B)]\n",
    "len(S)"
   ]
  },
  {
   "cell_type": "markdown",
   "id": "1d238229-4084-47d7-9cbd-8271f22b4dc6",
   "metadata": {
    "tags": []
   },
   "source": [
    "## 6.) <hr>"
   ]
  },
  {
   "cell_type": "code",
   "execution_count": 43,
   "id": "ef37afed-261a-4bb6-beeb-c30083deecc5",
   "metadata": {},
   "outputs": [],
   "source": [
    "A = set(range(1,5,1))\n",
    "B = set(range(3,8,1))"
   ]
  },
  {
   "cell_type": "code",
   "execution_count": 44,
   "id": "8566b47f-6192-4fbd-8d10-6ae51a80304d",
   "metadata": {},
   "outputs": [
    {
     "data": {
      "text/plain": [
       "{3, 4}"
      ]
     },
     "execution_count": 44,
     "metadata": {},
     "output_type": "execute_result"
    }
   ],
   "source": [
    "D = A.intersection(B)\n",
    "D"
   ]
  },
  {
   "cell_type": "code",
   "execution_count": 45,
   "id": "419109dd-da32-4235-91d4-abd7240511a0",
   "metadata": {},
   "outputs": [],
   "source": [
    "S = { i for i in it.product(A,B)}"
   ]
  },
  {
   "cell_type": "code",
   "execution_count": 47,
   "id": "cc0d2584-a826-4f07-9226-fc7fcdadb561",
   "metadata": {},
   "outputs": [
    {
     "data": {
      "text/plain": [
       "0.1"
      ]
     },
     "execution_count": 47,
     "metadata": {},
     "output_type": "execute_result"
    }
   ],
   "source": [
    "PAIB = len(D)/len(S)\n",
    "PAIB"
   ]
  },
  {
   "cell_type": "code",
   "execution_count": 48,
   "id": "d6636e0d-a87f-49bf-a995-4f7cce619bec",
   "metadata": {},
   "outputs": [
    {
     "data": {
      "text/plain": [
       "0.2"
      ]
     },
     "execution_count": 48,
     "metadata": {},
     "output_type": "execute_result"
    }
   ],
   "source": [
    "PA = len(A)/len(S)\n",
    "PA"
   ]
  },
  {
   "cell_type": "code",
   "execution_count": 49,
   "id": "ab98661f-b5e2-464b-99ac-017cc98c97a3",
   "metadata": {},
   "outputs": [
    {
     "data": {
      "text/plain": [
       "0.25"
      ]
     },
     "execution_count": 49,
     "metadata": {},
     "output_type": "execute_result"
    }
   ],
   "source": [
    "PB = len(B)/len(S)\n",
    "PB"
   ]
  },
  {
   "cell_type": "code",
   "execution_count": 50,
   "id": "293cc76b-5b2b-49cf-b1e5-f75a530a9adc",
   "metadata": {},
   "outputs": [
    {
     "data": {
      "text/plain": [
       "-0.55"
      ]
     },
     "execution_count": 50,
     "metadata": {},
     "output_type": "execute_result"
    }
   ],
   "source": [
    "G = (PA + PB) -1\n",
    "G"
   ]
  },
  {
   "cell_type": "code",
   "execution_count": 51,
   "id": "b91422c3-c1e2-4cbd-b491-8af101162774",
   "metadata": {},
   "outputs": [
    {
     "data": {
      "text/plain": [
       "True"
      ]
     },
     "execution_count": 51,
     "metadata": {},
     "output_type": "execute_result"
    }
   ],
   "source": [
    "PAIB >= G"
   ]
  },
  {
   "cell_type": "markdown",
   "id": "d8d1e686-0a8c-45db-a47b-e71e265592c0",
   "metadata": {},
   "source": [
    "## 7.) <hr>"
   ]
  },
  {
   "cell_type": "code",
   "execution_count": 5,
   "id": "c1b593f6-3fbe-42e7-a223-dc8cfe47cd27",
   "metadata": {},
   "outputs": [],
   "source": [
    "import itertools as it\n",
    "Ace = set(range(1,5,1))\n",
    "Deck = set(range(1,53,1))"
   ]
  },
  {
   "cell_type": "code",
   "execution_count": 7,
   "id": "bfd57db0-ec77-4b07-bea6-adfba66473b0",
   "metadata": {},
   "outputs": [
    {
     "data": {
      "text/plain": [
       "2652"
      ]
     },
     "execution_count": 7,
     "metadata": {},
     "output_type": "execute_result"
    }
   ],
   "source": [
    "Deckamount = [i for i in it.permutations(Deck,2)]\n",
    "len(Deckamount)"
   ]
  },
  {
   "cell_type": "code",
   "execution_count": 10,
   "id": "7f3e3fa6-4bde-4fa5-95a6-c95c07dac254",
   "metadata": {},
   "outputs": [
    {
     "data": {
      "text/plain": [
       "12"
      ]
     },
     "execution_count": 10,
     "metadata": {},
     "output_type": "execute_result"
    }
   ],
   "source": [
    "Aceamount = [i for i in it.permutations(Ace,2)]\n",
    "len(Aceamount)"
   ]
  },
  {
   "cell_type": "code",
   "execution_count": 12,
   "id": "41340fed-f703-4a1b-be9d-e422c11b044d",
   "metadata": {},
   "outputs": [
    {
     "data": {
      "text/plain": [
       "0.004524886877828055"
      ]
     },
     "execution_count": 12,
     "metadata": {},
     "output_type": "execute_result"
    }
   ],
   "source": [
    "Probofpairofaces = len(Aceamount)/len(Deckamount)\n",
    "Probofpairofaces"
   ]
  },
  {
   "cell_type": "code",
   "execution_count": null,
   "id": "fe3c02ab-dac2-4334-b301-88d1d6bfc83f",
   "metadata": {},
   "outputs": [],
   "source": []
  }
 ],
 "metadata": {
  "kernelspec": {
   "display_name": "Python 3 (ipykernel)",
   "language": "python",
   "name": "python3"
  },
  "language_info": {
   "codemirror_mode": {
    "name": "ipython",
    "version": 3
   },
   "file_extension": ".py",
   "mimetype": "text/x-python",
   "name": "python",
   "nbconvert_exporter": "python",
   "pygments_lexer": "ipython3",
   "version": "3.9.12"
  }
 },
 "nbformat": 4,
 "nbformat_minor": 5
}
